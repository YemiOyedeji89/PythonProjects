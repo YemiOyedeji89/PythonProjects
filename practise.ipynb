{
  "nbformat": 4,
  "nbformat_minor": 0,
  "metadata": {
    "colab": {
      "provenance": [],
      "toc_visible": true,
      "authorship_tag": "ABX9TyPkAs37/QektGwwbjptW64O",
      "include_colab_link": true
    },
    "kernelspec": {
      "name": "python3",
      "display_name": "Python 3"
    },
    "language_info": {
      "name": "python"
    }
  },
  "cells": [
    {
      "cell_type": "markdown",
      "metadata": {
        "id": "view-in-github",
        "colab_type": "text"
      },
      "source": [
        "<a href=\"https://colab.research.google.com/github/YemiOyedeji89/PythonProjects/blob/Diabetes_Prediction/practise.ipynb\" target=\"_parent\"><img src=\"https://colab.research.google.com/assets/colab-badge.svg\" alt=\"Open In Colab\"/></a>"
      ]
    },
    {
      "cell_type": "markdown",
      "source": [],
      "metadata": {
        "id": "m0S1Tm5gt4b6"
      }
    },
    {
      "cell_type": "code",
      "execution_count": 3,
      "metadata": {
        "id": "V9Mroelf1XIy"
      },
      "outputs": [],
      "source": [
        "#@title Default title text\n",
        "\n",
        "!apt-get install openjdk-8-jdk-headless -qq > /dev/null"
      ]
    },
    {
      "cell_type": "code",
      "source": [
        "!wget -q https://downloads.apache.org/spark/spark-3.3.2/spark-3.3.2-bin-hadoop3.tgz"
      ],
      "metadata": {
        "id": "2U-KVxoZs72p"
      },
      "execution_count": 4,
      "outputs": []
    },
    {
      "cell_type": "code",
      "source": [
        "!tar xf spark-3.3.2-bin-hadoop3.tgz\n"
      ],
      "metadata": {
        "id": "ByVVEfsR_Jqj"
      },
      "execution_count": 5,
      "outputs": []
    },
    {
      "cell_type": "code",
      "execution_count": 6,
      "metadata": {
        "id": "BTZKBbkF_L8q"
      },
      "outputs": [],
      "source": [
        "!pip install -q findspark"
      ]
    },
    {
      "cell_type": "code",
      "source": [
        "import os\n",
        "os.environ[\"JAVA_HOME\"]=\"/usr/lib/jvm/java-8-openjdk-amd64\"\n",
        "os.environ[\"SPARK_HOME\"]= \"/content/spark-3.3.2-bin-hadoop3\"\n",
        "\n"
      ],
      "metadata": {
        "id": "EZ_wN88Q_r9k"
      },
      "execution_count": 7,
      "outputs": []
    },
    {
      "cell_type": "code",
      "source": [
        "import findspark\n",
        "findspark.init()\n"
      ],
      "metadata": {
        "id": "lgHWyaBhAFTD"
      },
      "execution_count": 8,
      "outputs": []
    },
    {
      "cell_type": "code",
      "source": [
        "from pyspark.sql import SparkSession\n",
        "from pyspark.sql.types import StructType, StructField, StringType, IntegerType, FloatType\n"
      ],
      "metadata": {
        "id": "RbY_AQOccBAZ"
      },
      "execution_count": 9,
      "outputs": []
    },
    {
      "cell_type": "code",
      "source": [
        "#from pyspark.sql import SparkSession\n",
        "#spark = SparkSession.builder.master(\"local\").appName(\"Colab\").getOrCreate()\n",
        "spark = SparkSession.builder.getOrCreate()"
      ],
      "metadata": {
        "id": "NLOXsXwGrDBp"
      },
      "execution_count": 10,
      "outputs": []
    },
    {
      "cell_type": "code",
      "source": [
        "schema = StructType(\n",
        "    [\n",
        "        StructField('gender', StringType(), True),\n",
        "        StructField('age', FloatType(), True),\n",
        "        StructField('hypertension', IntegerType(), True),\n",
        "        StructField('heart_disease', IntegerType(), True),\n",
        "        StructField('smoking_history', StringType(), True),\n",
        "        StructField('bmi', FloatType(), True),\n",
        "        StructField('HbA1c_level', FloatType(), True),\n",
        "        StructField('blood_glucose_level', IntegerType(), True),\n",
        "        StructField('diabetes', IntegerType(), True),\n",
        "     \n",
        "    ]\n",
        ")"
      ],
      "metadata": {
        "id": "uZGbLuqTe-Po"
      },
      "execution_count": 11,
      "outputs": []
    },
    {
      "cell_type": "code",
      "source": [
        "from google.colab import files\n",
        "uploaded = files.upload()"
      ],
      "metadata": {
        "colab": {
          "base_uri": "https://localhost:8080/",
          "height": 73
        },
        "id": "eOyBzjNSMv_3",
        "outputId": "9bec7c23-f497-4ee8-cc4e-d3a1bc8e2136"
      },
      "execution_count": 12,
      "outputs": [
        {
          "output_type": "display_data",
          "data": {
            "text/plain": [
              "<IPython.core.display.HTML object>"
            ],
            "text/html": [
              "\n",
              "     <input type=\"file\" id=\"files-b6b2828a-377d-4dfd-b334-9310f3eb1484\" name=\"files[]\" multiple disabled\n",
              "        style=\"border:none\" />\n",
              "     <output id=\"result-b6b2828a-377d-4dfd-b334-9310f3eb1484\">\n",
              "      Upload widget is only available when the cell has been executed in the\n",
              "      current browser session. Please rerun this cell to enable.\n",
              "      </output>\n",
              "      <script>// Copyright 2017 Google LLC\n",
              "//\n",
              "// Licensed under the Apache License, Version 2.0 (the \"License\");\n",
              "// you may not use this file except in compliance with the License.\n",
              "// You may obtain a copy of the License at\n",
              "//\n",
              "//      http://www.apache.org/licenses/LICENSE-2.0\n",
              "//\n",
              "// Unless required by applicable law or agreed to in writing, software\n",
              "// distributed under the License is distributed on an \"AS IS\" BASIS,\n",
              "// WITHOUT WARRANTIES OR CONDITIONS OF ANY KIND, either express or implied.\n",
              "// See the License for the specific language governing permissions and\n",
              "// limitations under the License.\n",
              "\n",
              "/**\n",
              " * @fileoverview Helpers for google.colab Python module.\n",
              " */\n",
              "(function(scope) {\n",
              "function span(text, styleAttributes = {}) {\n",
              "  const element = document.createElement('span');\n",
              "  element.textContent = text;\n",
              "  for (const key of Object.keys(styleAttributes)) {\n",
              "    element.style[key] = styleAttributes[key];\n",
              "  }\n",
              "  return element;\n",
              "}\n",
              "\n",
              "// Max number of bytes which will be uploaded at a time.\n",
              "const MAX_PAYLOAD_SIZE = 100 * 1024;\n",
              "\n",
              "function _uploadFiles(inputId, outputId) {\n",
              "  const steps = uploadFilesStep(inputId, outputId);\n",
              "  const outputElement = document.getElementById(outputId);\n",
              "  // Cache steps on the outputElement to make it available for the next call\n",
              "  // to uploadFilesContinue from Python.\n",
              "  outputElement.steps = steps;\n",
              "\n",
              "  return _uploadFilesContinue(outputId);\n",
              "}\n",
              "\n",
              "// This is roughly an async generator (not supported in the browser yet),\n",
              "// where there are multiple asynchronous steps and the Python side is going\n",
              "// to poll for completion of each step.\n",
              "// This uses a Promise to block the python side on completion of each step,\n",
              "// then passes the result of the previous step as the input to the next step.\n",
              "function _uploadFilesContinue(outputId) {\n",
              "  const outputElement = document.getElementById(outputId);\n",
              "  const steps = outputElement.steps;\n",
              "\n",
              "  const next = steps.next(outputElement.lastPromiseValue);\n",
              "  return Promise.resolve(next.value.promise).then((value) => {\n",
              "    // Cache the last promise value to make it available to the next\n",
              "    // step of the generator.\n",
              "    outputElement.lastPromiseValue = value;\n",
              "    return next.value.response;\n",
              "  });\n",
              "}\n",
              "\n",
              "/**\n",
              " * Generator function which is called between each async step of the upload\n",
              " * process.\n",
              " * @param {string} inputId Element ID of the input file picker element.\n",
              " * @param {string} outputId Element ID of the output display.\n",
              " * @return {!Iterable<!Object>} Iterable of next steps.\n",
              " */\n",
              "function* uploadFilesStep(inputId, outputId) {\n",
              "  const inputElement = document.getElementById(inputId);\n",
              "  inputElement.disabled = false;\n",
              "\n",
              "  const outputElement = document.getElementById(outputId);\n",
              "  outputElement.innerHTML = '';\n",
              "\n",
              "  const pickedPromise = new Promise((resolve) => {\n",
              "    inputElement.addEventListener('change', (e) => {\n",
              "      resolve(e.target.files);\n",
              "    });\n",
              "  });\n",
              "\n",
              "  const cancel = document.createElement('button');\n",
              "  inputElement.parentElement.appendChild(cancel);\n",
              "  cancel.textContent = 'Cancel upload';\n",
              "  const cancelPromise = new Promise((resolve) => {\n",
              "    cancel.onclick = () => {\n",
              "      resolve(null);\n",
              "    };\n",
              "  });\n",
              "\n",
              "  // Wait for the user to pick the files.\n",
              "  const files = yield {\n",
              "    promise: Promise.race([pickedPromise, cancelPromise]),\n",
              "    response: {\n",
              "      action: 'starting',\n",
              "    }\n",
              "  };\n",
              "\n",
              "  cancel.remove();\n",
              "\n",
              "  // Disable the input element since further picks are not allowed.\n",
              "  inputElement.disabled = true;\n",
              "\n",
              "  if (!files) {\n",
              "    return {\n",
              "      response: {\n",
              "        action: 'complete',\n",
              "      }\n",
              "    };\n",
              "  }\n",
              "\n",
              "  for (const file of files) {\n",
              "    const li = document.createElement('li');\n",
              "    li.append(span(file.name, {fontWeight: 'bold'}));\n",
              "    li.append(span(\n",
              "        `(${file.type || 'n/a'}) - ${file.size} bytes, ` +\n",
              "        `last modified: ${\n",
              "            file.lastModifiedDate ? file.lastModifiedDate.toLocaleDateString() :\n",
              "                                    'n/a'} - `));\n",
              "    const percent = span('0% done');\n",
              "    li.appendChild(percent);\n",
              "\n",
              "    outputElement.appendChild(li);\n",
              "\n",
              "    const fileDataPromise = new Promise((resolve) => {\n",
              "      const reader = new FileReader();\n",
              "      reader.onload = (e) => {\n",
              "        resolve(e.target.result);\n",
              "      };\n",
              "      reader.readAsArrayBuffer(file);\n",
              "    });\n",
              "    // Wait for the data to be ready.\n",
              "    let fileData = yield {\n",
              "      promise: fileDataPromise,\n",
              "      response: {\n",
              "        action: 'continue',\n",
              "      }\n",
              "    };\n",
              "\n",
              "    // Use a chunked sending to avoid message size limits. See b/62115660.\n",
              "    let position = 0;\n",
              "    do {\n",
              "      const length = Math.min(fileData.byteLength - position, MAX_PAYLOAD_SIZE);\n",
              "      const chunk = new Uint8Array(fileData, position, length);\n",
              "      position += length;\n",
              "\n",
              "      const base64 = btoa(String.fromCharCode.apply(null, chunk));\n",
              "      yield {\n",
              "        response: {\n",
              "          action: 'append',\n",
              "          file: file.name,\n",
              "          data: base64,\n",
              "        },\n",
              "      };\n",
              "\n",
              "      let percentDone = fileData.byteLength === 0 ?\n",
              "          100 :\n",
              "          Math.round((position / fileData.byteLength) * 100);\n",
              "      percent.textContent = `${percentDone}% done`;\n",
              "\n",
              "    } while (position < fileData.byteLength);\n",
              "  }\n",
              "\n",
              "  // All done.\n",
              "  yield {\n",
              "    response: {\n",
              "      action: 'complete',\n",
              "    }\n",
              "  };\n",
              "}\n",
              "\n",
              "scope.google = scope.google || {};\n",
              "scope.google.colab = scope.google.colab || {};\n",
              "scope.google.colab._files = {\n",
              "  _uploadFiles,\n",
              "  _uploadFilesContinue,\n",
              "};\n",
              "})(self);\n",
              "</script> "
            ]
          },
          "metadata": {}
        },
        {
          "output_type": "stream",
          "name": "stdout",
          "text": [
            "Saving diabetes_prediction_dataset.csv to diabetes_prediction_dataset.csv\n"
          ]
        }
      ]
    },
    {
      "cell_type": "code",
      "source": [
        "#import pandas as pd\n",
        "#df =pd.read_csv('diabetes_prediction_dataset.csv')\n",
        "#print(df)"
      ],
      "metadata": {
        "id": "vFvDKe8VNi3-"
      },
      "execution_count": 15,
      "outputs": []
    },
    {
      "cell_type": "code",
      "source": [
        "df = spark.read.format( \"csv\").schema(schema).option(\"header\", True).load(\"/content/diabetes_prediction_dataset.csv\")"
      ],
      "metadata": {
        "id": "ijAZT_OYpbBz"
      },
      "execution_count": 13,
      "outputs": []
    },
    {
      "cell_type": "code",
      "source": [
        "df.printSchema()"
      ],
      "metadata": {
        "colab": {
          "base_uri": "https://localhost:8080/"
        },
        "id": "N_Eq4_jEqw1T",
        "outputId": "0e5f9152-59bf-447e-83fe-f333816861fa"
      },
      "execution_count": 29,
      "outputs": [
        {
          "output_type": "stream",
          "name": "stdout",
          "text": [
            "root\n",
            " |-- gender: string (nullable = true)\n",
            " |-- age: float (nullable = true)\n",
            " |-- hypertension: integer (nullable = true)\n",
            " |-- heart_disease: integer (nullable = true)\n",
            " |-- smoking_history: string (nullable = true)\n",
            " |-- bmi: float (nullable = true)\n",
            " |-- HbA1c_level: float (nullable = true)\n",
            " |-- blood_glucose_level: integer (nullable = true)\n",
            " |-- diabetes: integer (nullable = true)\n",
            "\n"
          ]
        }
      ]
    },
    {
      "cell_type": "code",
      "source": [
        "df.show(truncate= False)"
      ],
      "metadata": {
        "colab": {
          "base_uri": "https://localhost:8080/"
        },
        "id": "-UgHtkpWsIp6",
        "outputId": "e4ade7eb-e960-4b80-d738-47671c231dc5"
      },
      "execution_count": 14,
      "outputs": [
        {
          "output_type": "stream",
          "name": "stdout",
          "text": [
            "+------+----+------------+-------------+---------------+-----+-----------+-------------------+--------+\n",
            "|gender|age |hypertension|heart_disease|smoking_history|bmi  |HbA1c_level|blood_glucose_level|diabetes|\n",
            "+------+----+------------+-------------+---------------+-----+-----------+-------------------+--------+\n",
            "|Female|80.0|0           |1            |never          |25.19|6.6        |140                |0       |\n",
            "|Female|54.0|0           |0            |No Info        |27.32|6.6        |80                 |0       |\n",
            "|Male  |28.0|0           |0            |never          |27.32|5.7        |158                |0       |\n",
            "|Female|36.0|0           |0            |current        |23.45|5.0        |155                |0       |\n",
            "|Male  |76.0|1           |1            |current        |20.14|4.8        |155                |0       |\n",
            "|Female|20.0|0           |0            |never          |27.32|6.6        |85                 |0       |\n",
            "|Female|44.0|0           |0            |never          |19.31|6.5        |200                |1       |\n",
            "|Female|79.0|0           |0            |No Info        |23.86|5.7        |85                 |0       |\n",
            "|Male  |42.0|0           |0            |never          |33.64|4.8        |145                |0       |\n",
            "|Female|32.0|0           |0            |never          |27.32|5.0        |100                |0       |\n",
            "|Female|53.0|0           |0            |never          |27.32|6.1        |85                 |0       |\n",
            "|Female|54.0|0           |0            |former         |54.7 |6.0        |100                |0       |\n",
            "|Female|78.0|0           |0            |former         |36.05|5.0        |130                |0       |\n",
            "|Female|67.0|0           |0            |never          |25.69|5.8        |200                |0       |\n",
            "|Female|76.0|0           |0            |No Info        |27.32|5.0        |160                |0       |\n",
            "|Male  |78.0|0           |0            |No Info        |27.32|6.6        |126                |0       |\n",
            "|Male  |15.0|0           |0            |never          |30.36|6.1        |200                |0       |\n",
            "|Female|42.0|0           |0            |never          |24.48|5.7        |158                |0       |\n",
            "|Female|42.0|0           |0            |No Info        |27.32|5.7        |80                 |0       |\n",
            "|Male  |37.0|0           |0            |ever           |25.72|3.5        |159                |0       |\n",
            "+------+----+------------+-------------+---------------+-----+-----------+-------------------+--------+\n",
            "only showing top 20 rows\n",
            "\n"
          ]
        }
      ]
    },
    {
      "cell_type": "code",
      "source": [
        "df2 = df.withColumn(\"age\", df.age.cast(IntegerType()))"
      ],
      "metadata": {
        "id": "f9_k2LQvvC8J"
      },
      "execution_count": 19,
      "outputs": []
    },
    {
      "cell_type": "code",
      "source": [
        "df2.printSchema()"
      ],
      "metadata": {
        "colab": {
          "base_uri": "https://localhost:8080/"
        },
        "id": "8JpXgYWhU_t9",
        "outputId": "1990dfad-9a85-45a2-f884-a5551d90edff"
      },
      "execution_count": 20,
      "outputs": [
        {
          "output_type": "stream",
          "name": "stdout",
          "text": [
            "root\n",
            " |-- gender: string (nullable = true)\n",
            " |-- age: integer (nullable = true)\n",
            " |-- hypertension: integer (nullable = true)\n",
            " |-- heart_disease: integer (nullable = true)\n",
            " |-- smoking_history: string (nullable = true)\n",
            " |-- bmi: float (nullable = true)\n",
            " |-- HbA1c_level: float (nullable = true)\n",
            " |-- blood_glucose_level: integer (nullable = true)\n",
            " |-- diabetes: integer (nullable = true)\n",
            "\n"
          ]
        }
      ]
    },
    {
      "cell_type": "code",
      "source": [
        "df2.show(truncate= False)"
      ],
      "metadata": {
        "colab": {
          "base_uri": "https://localhost:8080/"
        },
        "id": "Hn9-x6JJVovM",
        "outputId": "d48bdff3-c2dd-4838-e1af-695fc35528e2"
      },
      "execution_count": 21,
      "outputs": [
        {
          "output_type": "stream",
          "name": "stdout",
          "text": [
            "+------+---+------------+-------------+---------------+-----+-----------+-------------------+--------+\n",
            "|gender|age|hypertension|heart_disease|smoking_history|bmi  |HbA1c_level|blood_glucose_level|diabetes|\n",
            "+------+---+------------+-------------+---------------+-----+-----------+-------------------+--------+\n",
            "|Female|80 |0           |1            |never          |25.19|6.6        |140                |0       |\n",
            "|Female|54 |0           |0            |No Info        |27.32|6.6        |80                 |0       |\n",
            "|Male  |28 |0           |0            |never          |27.32|5.7        |158                |0       |\n",
            "|Female|36 |0           |0            |current        |23.45|5.0        |155                |0       |\n",
            "|Male  |76 |1           |1            |current        |20.14|4.8        |155                |0       |\n",
            "|Female|20 |0           |0            |never          |27.32|6.6        |85                 |0       |\n",
            "|Female|44 |0           |0            |never          |19.31|6.5        |200                |1       |\n",
            "|Female|79 |0           |0            |No Info        |23.86|5.7        |85                 |0       |\n",
            "|Male  |42 |0           |0            |never          |33.64|4.8        |145                |0       |\n",
            "|Female|32 |0           |0            |never          |27.32|5.0        |100                |0       |\n",
            "|Female|53 |0           |0            |never          |27.32|6.1        |85                 |0       |\n",
            "|Female|54 |0           |0            |former         |54.7 |6.0        |100                |0       |\n",
            "|Female|78 |0           |0            |former         |36.05|5.0        |130                |0       |\n",
            "|Female|67 |0           |0            |never          |25.69|5.8        |200                |0       |\n",
            "|Female|76 |0           |0            |No Info        |27.32|5.0        |160                |0       |\n",
            "|Male  |78 |0           |0            |No Info        |27.32|6.6        |126                |0       |\n",
            "|Male  |15 |0           |0            |never          |30.36|6.1        |200                |0       |\n",
            "|Female|42 |0           |0            |never          |24.48|5.7        |158                |0       |\n",
            "|Female|42 |0           |0            |No Info        |27.32|5.7        |80                 |0       |\n",
            "|Male  |37 |0           |0            |ever           |25.72|3.5        |159                |0       |\n",
            "+------+---+------------+-------------+---------------+-----+-----------+-------------------+--------+\n",
            "only showing top 20 rows\n",
            "\n"
          ]
        }
      ]
    },
    {
      "cell_type": "code",
      "source": [
        "db_range = df2.filter(df.smoking_history == \"never\" ).show()"
      ],
      "metadata": {
        "colab": {
          "base_uri": "https://localhost:8080/"
        },
        "id": "iJWu91PQWEod",
        "outputId": "5d03a65e-8b9c-4030-dd59-9921b0b393bf"
      },
      "execution_count": 25,
      "outputs": [
        {
          "output_type": "stream",
          "name": "stdout",
          "text": [
            "+------+---+------------+-------------+---------------+-----+-----------+-------------------+--------+\n",
            "|gender|age|hypertension|heart_disease|smoking_history|  bmi|HbA1c_level|blood_glucose_level|diabetes|\n",
            "+------+---+------------+-------------+---------------+-----+-----------+-------------------+--------+\n",
            "|Female| 80|           0|            1|          never|25.19|        6.6|                140|       0|\n",
            "|  Male| 28|           0|            0|          never|27.32|        5.7|                158|       0|\n",
            "|Female| 20|           0|            0|          never|27.32|        6.6|                 85|       0|\n",
            "|Female| 44|           0|            0|          never|19.31|        6.5|                200|       1|\n",
            "|  Male| 42|           0|            0|          never|33.64|        4.8|                145|       0|\n",
            "|Female| 32|           0|            0|          never|27.32|        5.0|                100|       0|\n",
            "|Female| 53|           0|            0|          never|27.32|        6.1|                 85|       0|\n",
            "|Female| 67|           0|            0|          never|25.69|        5.8|                200|       0|\n",
            "|  Male| 15|           0|            0|          never|30.36|        6.1|                200|       0|\n",
            "|Female| 42|           0|            0|          never|24.48|        5.7|                158|       0|\n",
            "|Female| 69|           0|            0|          never|21.24|        4.8|                 85|       0|\n",
            "|  Male| 30|           0|            0|          never|33.76|        6.1|                126|       0|\n",
            "|  Male| 45|           1|            0|          never|26.47|        4.0|                158|       0|\n",
            "|  Male| 43|           0|            0|          never|26.08|        6.1|                155|       0|\n",
            "|Female| 20|           0|            0|          never|22.19|        3.5|                100|       0|\n",
            "|Female| 76|           0|            0|          never|23.55|        5.0|                 85|       0|\n",
            "|Female| 26|           0|            0|          never|21.22|        6.6|                200|       0|\n",
            "|Female| 34|           0|            0|          never|56.43|        6.2|                200|       0|\n",
            "|Female| 77|           1|            1|          never|32.02|        5.0|                159|       0|\n",
            "|Female| 44|           0|            0|          never|24.93|        6.1|                100|       0|\n",
            "+------+---+------------+-------------+---------------+-----+-----------+-------------------+--------+\n",
            "only showing top 20 rows\n",
            "\n"
          ]
        }
      ]
    }
  ]
}